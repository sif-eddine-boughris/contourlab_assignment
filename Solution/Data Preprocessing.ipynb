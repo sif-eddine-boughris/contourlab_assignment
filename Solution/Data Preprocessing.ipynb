{
 "cells": [
  {
   "cell_type": "code",
   "execution_count": 1,
   "metadata": {},
   "outputs": [],
   "source": [
    "import pandas as pd\n",
    "import numpy as np\n",
    "from sklearn.preprocessing import MultiLabelBinarizer\n",
    "import requests\n",
    "from PIL import Image\n",
    "from io import BytesIO\n",
    "import os"
   ]
  },
  {
   "cell_type": "code",
   "execution_count": 2,
   "metadata": {},
   "outputs": [],
   "source": [
    "Drop_file_path = \"Data/dataset_droped.csv\" \n",
    "df_drop = pd.read_csv(Drop_file_path)\n",
    "Imputedfile_path = \"Data/dataset_imputed.csv\" \n",
    "df_imputed = pd.read_csv(Drop_file_path)"
   ]
  },
  {
   "cell_type": "markdown",
   "metadata": {},
   "source": [
    "# Data Preprocessing"
   ]
  },
  {
   "cell_type": "code",
   "execution_count": 3,
   "metadata": {},
   "outputs": [],
   "source": [
    "multi_label_columns = ['category', 'style', 'colors', 'gender', 'pattern',\n",
    "       'occasion','fit', 'Type', 'lenghth']"
   ]
  },
  {
   "cell_type": "code",
   "execution_count": 4,
   "metadata": {},
   "outputs": [],
   "source": [
    "def transform_to_label_lists(df, columns):\n",
    "    for col in columns:\n",
    "        df[col] = df[col].astype(str).apply(lambda x: x.split(\";\") if pd.notna(x) else [])\n",
    "    return df"
   ]
  },
  {
   "cell_type": "code",
   "execution_count": 5,
   "metadata": {},
   "outputs": [],
   "source": [
    "df_transformed_Imputed = transform_to_label_lists(df_imputed.copy(), multi_label_columns)"
   ]
  },
  {
   "cell_type": "code",
   "execution_count": 6,
   "metadata": {},
   "outputs": [],
   "source": [
    "df_transformed_Droped = transform_to_label_lists(df_drop.copy(), multi_label_columns)"
   ]
  },
  {
   "cell_type": "code",
   "execution_count": 7,
   "metadata": {},
   "outputs": [
    {
     "data": {
      "text/html": [
       "<div>\n",
       "<style scoped>\n",
       "    .dataframe tbody tr th:only-of-type {\n",
       "        vertical-align: middle;\n",
       "    }\n",
       "\n",
       "    .dataframe tbody tr th {\n",
       "        vertical-align: top;\n",
       "    }\n",
       "\n",
       "    .dataframe thead th {\n",
       "        text-align: right;\n",
       "    }\n",
       "</style>\n",
       "<table border=\"1\" class=\"dataframe\">\n",
       "  <thead>\n",
       "    <tr style=\"text-align: right;\">\n",
       "      <th></th>\n",
       "      <th>image_url_1</th>\n",
       "      <th>category</th>\n",
       "      <th>style</th>\n",
       "      <th>colors</th>\n",
       "      <th>gender</th>\n",
       "      <th>pattern</th>\n",
       "      <th>occasion</th>\n",
       "      <th>barcode</th>\n",
       "      <th>brand</th>\n",
       "      <th>fit</th>\n",
       "      <th>Type</th>\n",
       "      <th>lenghth</th>\n",
       "    </tr>\n",
       "  </thead>\n",
       "  <tbody>\n",
       "    <tr>\n",
       "      <th>0</th>\n",
       "      <td>https://fotos.skm.be/article/489205/489205_02_...</td>\n",
       "      <td>[shirt]</td>\n",
       "      <td>[casual]</td>\n",
       "      <td>[magenta, white]</td>\n",
       "      <td>[female]</td>\n",
       "      <td>[shapes]</td>\n",
       "      <td>[semi-formal,  summer]</td>\n",
       "      <td>48920502040101</td>\n",
       "      <td>ETERNA</td>\n",
       "      <td>[Regular_Fit]</td>\n",
       "      <td>[straight-sleeve, high-neck]</td>\n",
       "      <td>[short, long-sleeve]</td>\n",
       "    </tr>\n",
       "    <tr>\n",
       "      <th>1</th>\n",
       "      <td>https://fotos.skm.be/article/507927/507927_01_...</td>\n",
       "      <td>[sweater]</td>\n",
       "      <td>[casual]</td>\n",
       "      <td>[coral, magenta]</td>\n",
       "      <td>[female]</td>\n",
       "      <td>[chevron,  harlequin]</td>\n",
       "      <td>[winter]</td>\n",
       "      <td>50792701020101</td>\n",
       "      <td>Geisha</td>\n",
       "      <td>[Regular_Fit]</td>\n",
       "      <td>[straight-sleeve, turtle-neck]</td>\n",
       "      <td>[short, long-sleeve]</td>\n",
       "    </tr>\n",
       "    <tr>\n",
       "      <th>2</th>\n",
       "      <td>https://fotos.skm.be/article/505938/505938_01_...</td>\n",
       "      <td>[trousers_and_chinos]</td>\n",
       "      <td>[business]</td>\n",
       "      <td>[gray]</td>\n",
       "      <td>[female]</td>\n",
       "      <td>[houndstooth]</td>\n",
       "      <td>[semi-formal]</td>\n",
       "      <td>50593801040101</td>\n",
       "      <td>TONI</td>\n",
       "      <td>[Slim_Fit]</td>\n",
       "      <td>[high-waist, classic-trousers]</td>\n",
       "      <td>[full-length]</td>\n",
       "    </tr>\n",
       "    <tr>\n",
       "      <th>3</th>\n",
       "      <td>https://fotos.skm.be/article/487940/487940_01_...</td>\n",
       "      <td>[sweatshirt]</td>\n",
       "      <td>[casual]</td>\n",
       "      <td>[bordeaux, gray]</td>\n",
       "      <td>[female]</td>\n",
       "      <td>[marled,  varsity-striped]</td>\n",
       "      <td>[home-lounge,  winter]</td>\n",
       "      <td>48794001050101</td>\n",
       "      <td>Rabe</td>\n",
       "      <td>[Regular_Fit]</td>\n",
       "      <td>[straight-sleeve, crew-neck]</td>\n",
       "      <td>[short, long-sleeve]</td>\n",
       "    </tr>\n",
       "    <tr>\n",
       "      <th>4</th>\n",
       "      <td>https://fotos.skm.be/article/499751/499751_01_...</td>\n",
       "      <td>[shirt]</td>\n",
       "      <td>[casual]</td>\n",
       "      <td>[beige, black]</td>\n",
       "      <td>[female]</td>\n",
       "      <td>[geometric]</td>\n",
       "      <td>[semi-formal,  summer]</td>\n",
       "      <td>49975101020101</td>\n",
       "      <td>ONLY</td>\n",
       "      <td>[Regular_Fit]</td>\n",
       "      <td>[straight-sleeve]</td>\n",
       "      <td>[short, long-sleeve]</td>\n",
       "    </tr>\n",
       "  </tbody>\n",
       "</table>\n",
       "</div>"
      ],
      "text/plain": [
       "                                         image_url_1               category  \\\n",
       "0  https://fotos.skm.be/article/489205/489205_02_...                [shirt]   \n",
       "1  https://fotos.skm.be/article/507927/507927_01_...              [sweater]   \n",
       "2  https://fotos.skm.be/article/505938/505938_01_...  [trousers_and_chinos]   \n",
       "3  https://fotos.skm.be/article/487940/487940_01_...           [sweatshirt]   \n",
       "4  https://fotos.skm.be/article/499751/499751_01_...                [shirt]   \n",
       "\n",
       "        style            colors    gender                     pattern  \\\n",
       "0    [casual]  [magenta, white]  [female]                    [shapes]   \n",
       "1    [casual]  [coral, magenta]  [female]       [chevron,  harlequin]   \n",
       "2  [business]            [gray]  [female]               [houndstooth]   \n",
       "3    [casual]  [bordeaux, gray]  [female]  [marled,  varsity-striped]   \n",
       "4    [casual]    [beige, black]  [female]                 [geometric]   \n",
       "\n",
       "                 occasion         barcode   brand            fit  \\\n",
       "0  [semi-formal,  summer]  48920502040101  ETERNA  [Regular_Fit]   \n",
       "1                [winter]  50792701020101  Geisha  [Regular_Fit]   \n",
       "2           [semi-formal]  50593801040101    TONI     [Slim_Fit]   \n",
       "3  [home-lounge,  winter]  48794001050101    Rabe  [Regular_Fit]   \n",
       "4  [semi-formal,  summer]  49975101020101    ONLY  [Regular_Fit]   \n",
       "\n",
       "                             Type               lenghth  \n",
       "0    [straight-sleeve, high-neck]  [short, long-sleeve]  \n",
       "1  [straight-sleeve, turtle-neck]  [short, long-sleeve]  \n",
       "2  [high-waist, classic-trousers]         [full-length]  \n",
       "3    [straight-sleeve, crew-neck]  [short, long-sleeve]  \n",
       "4               [straight-sleeve]  [short, long-sleeve]  "
      ]
     },
     "execution_count": 7,
     "metadata": {},
     "output_type": "execute_result"
    }
   ],
   "source": [
    "df_transformed_Imputed.head()"
   ]
  },
  {
   "cell_type": "code",
   "execution_count": 8,
   "metadata": {},
   "outputs": [
    {
     "data": {
      "text/html": [
       "<div>\n",
       "<style scoped>\n",
       "    .dataframe tbody tr th:only-of-type {\n",
       "        vertical-align: middle;\n",
       "    }\n",
       "\n",
       "    .dataframe tbody tr th {\n",
       "        vertical-align: top;\n",
       "    }\n",
       "\n",
       "    .dataframe thead th {\n",
       "        text-align: right;\n",
       "    }\n",
       "</style>\n",
       "<table border=\"1\" class=\"dataframe\">\n",
       "  <thead>\n",
       "    <tr style=\"text-align: right;\">\n",
       "      <th></th>\n",
       "      <th>image_url_1</th>\n",
       "      <th>category</th>\n",
       "      <th>style</th>\n",
       "      <th>colors</th>\n",
       "      <th>gender</th>\n",
       "      <th>pattern</th>\n",
       "      <th>occasion</th>\n",
       "      <th>barcode</th>\n",
       "      <th>brand</th>\n",
       "      <th>fit</th>\n",
       "      <th>Type</th>\n",
       "      <th>lenghth</th>\n",
       "    </tr>\n",
       "  </thead>\n",
       "  <tbody>\n",
       "    <tr>\n",
       "      <th>0</th>\n",
       "      <td>https://fotos.skm.be/article/489205/489205_02_...</td>\n",
       "      <td>[shirt]</td>\n",
       "      <td>[casual]</td>\n",
       "      <td>[magenta, white]</td>\n",
       "      <td>[female]</td>\n",
       "      <td>[shapes]</td>\n",
       "      <td>[semi-formal,  summer]</td>\n",
       "      <td>48920502040101</td>\n",
       "      <td>ETERNA</td>\n",
       "      <td>[Regular_Fit]</td>\n",
       "      <td>[straight-sleeve, high-neck]</td>\n",
       "      <td>[short, long-sleeve]</td>\n",
       "    </tr>\n",
       "    <tr>\n",
       "      <th>1</th>\n",
       "      <td>https://fotos.skm.be/article/507927/507927_01_...</td>\n",
       "      <td>[sweater]</td>\n",
       "      <td>[casual]</td>\n",
       "      <td>[coral, magenta]</td>\n",
       "      <td>[female]</td>\n",
       "      <td>[chevron,  harlequin]</td>\n",
       "      <td>[winter]</td>\n",
       "      <td>50792701020101</td>\n",
       "      <td>Geisha</td>\n",
       "      <td>[Regular_Fit]</td>\n",
       "      <td>[straight-sleeve, turtle-neck]</td>\n",
       "      <td>[short, long-sleeve]</td>\n",
       "    </tr>\n",
       "    <tr>\n",
       "      <th>2</th>\n",
       "      <td>https://fotos.skm.be/article/505938/505938_01_...</td>\n",
       "      <td>[trousers_and_chinos]</td>\n",
       "      <td>[business]</td>\n",
       "      <td>[gray]</td>\n",
       "      <td>[female]</td>\n",
       "      <td>[houndstooth]</td>\n",
       "      <td>[semi-formal]</td>\n",
       "      <td>50593801040101</td>\n",
       "      <td>TONI</td>\n",
       "      <td>[Slim_Fit]</td>\n",
       "      <td>[high-waist, classic-trousers]</td>\n",
       "      <td>[full-length]</td>\n",
       "    </tr>\n",
       "    <tr>\n",
       "      <th>3</th>\n",
       "      <td>https://fotos.skm.be/article/487940/487940_01_...</td>\n",
       "      <td>[sweatshirt]</td>\n",
       "      <td>[casual]</td>\n",
       "      <td>[bordeaux, gray]</td>\n",
       "      <td>[female]</td>\n",
       "      <td>[marled,  varsity-striped]</td>\n",
       "      <td>[home-lounge,  winter]</td>\n",
       "      <td>48794001050101</td>\n",
       "      <td>Rabe</td>\n",
       "      <td>[Regular_Fit]</td>\n",
       "      <td>[straight-sleeve, crew-neck]</td>\n",
       "      <td>[short, long-sleeve]</td>\n",
       "    </tr>\n",
       "    <tr>\n",
       "      <th>4</th>\n",
       "      <td>https://fotos.skm.be/article/499751/499751_01_...</td>\n",
       "      <td>[shirt]</td>\n",
       "      <td>[casual]</td>\n",
       "      <td>[beige, black]</td>\n",
       "      <td>[female]</td>\n",
       "      <td>[geometric]</td>\n",
       "      <td>[semi-formal,  summer]</td>\n",
       "      <td>49975101020101</td>\n",
       "      <td>ONLY</td>\n",
       "      <td>[Regular_Fit]</td>\n",
       "      <td>[straight-sleeve]</td>\n",
       "      <td>[short, long-sleeve]</td>\n",
       "    </tr>\n",
       "  </tbody>\n",
       "</table>\n",
       "</div>"
      ],
      "text/plain": [
       "                                         image_url_1               category  \\\n",
       "0  https://fotos.skm.be/article/489205/489205_02_...                [shirt]   \n",
       "1  https://fotos.skm.be/article/507927/507927_01_...              [sweater]   \n",
       "2  https://fotos.skm.be/article/505938/505938_01_...  [trousers_and_chinos]   \n",
       "3  https://fotos.skm.be/article/487940/487940_01_...           [sweatshirt]   \n",
       "4  https://fotos.skm.be/article/499751/499751_01_...                [shirt]   \n",
       "\n",
       "        style            colors    gender                     pattern  \\\n",
       "0    [casual]  [magenta, white]  [female]                    [shapes]   \n",
       "1    [casual]  [coral, magenta]  [female]       [chevron,  harlequin]   \n",
       "2  [business]            [gray]  [female]               [houndstooth]   \n",
       "3    [casual]  [bordeaux, gray]  [female]  [marled,  varsity-striped]   \n",
       "4    [casual]    [beige, black]  [female]                 [geometric]   \n",
       "\n",
       "                 occasion         barcode   brand            fit  \\\n",
       "0  [semi-formal,  summer]  48920502040101  ETERNA  [Regular_Fit]   \n",
       "1                [winter]  50792701020101  Geisha  [Regular_Fit]   \n",
       "2           [semi-formal]  50593801040101    TONI     [Slim_Fit]   \n",
       "3  [home-lounge,  winter]  48794001050101    Rabe  [Regular_Fit]   \n",
       "4  [semi-formal,  summer]  49975101020101    ONLY  [Regular_Fit]   \n",
       "\n",
       "                             Type               lenghth  \n",
       "0    [straight-sleeve, high-neck]  [short, long-sleeve]  \n",
       "1  [straight-sleeve, turtle-neck]  [short, long-sleeve]  \n",
       "2  [high-waist, classic-trousers]         [full-length]  \n",
       "3    [straight-sleeve, crew-neck]  [short, long-sleeve]  \n",
       "4               [straight-sleeve]  [short, long-sleeve]  "
      ]
     },
     "execution_count": 8,
     "metadata": {},
     "output_type": "execute_result"
    }
   ],
   "source": [
    "df_transformed_Droped.head()"
   ]
  },
  {
   "cell_type": "markdown",
   "metadata": {},
   "source": [
    "# Label encoding"
   ]
  },
  {
   "cell_type": "code",
   "execution_count": 9,
   "metadata": {},
   "outputs": [],
   "source": [
    "def multi_hot_encode(df, columns):\n",
    "    mlb_encoders = {}\n",
    "    df_encoded = df.copy()\n",
    "    \n",
    "    for col in columns:\n",
    "        mlb = MultiLabelBinarizer()\n",
    "        encoded = mlb.fit_transform(df[col])\n",
    "        \n",
    "        # Store each row as a binary list representing multi-hot encoding\n",
    "        df_encoded[col] = encoded.tolist()\n",
    "        \n",
    "        # Store the encoder for reverse transformation\n",
    "        mlb_encoders[col] = mlb\n",
    "\n",
    "    return df_encoded, mlb_encoders"
   ]
  },
  {
   "cell_type": "code",
   "execution_count": 10,
   "metadata": {},
   "outputs": [],
   "source": [
    "def multi_hot_decode(df_encoded, mlb_encoders):\n",
    "    df_decoded = df_encoded.copy()\n",
    "    \n",
    "    for col, mlb in mlb_encoders.items():\n",
    "        # Convert multi-hot encoded lists back to NumPy array for decoding\n",
    "        encoded_values = np.array(df_encoded[col].tolist())\n",
    "        \n",
    "        # Perform inverse transformation\n",
    "        decoded_labels = mlb.inverse_transform(encoded_values)\n",
    "        \n",
    "        # Restore original column with lists of labels\n",
    "        df_decoded[col] = decoded_labels\n",
    "    \n",
    "    return df_decoded\n"
   ]
  },
  {
   "cell_type": "code",
   "execution_count": 11,
   "metadata": {},
   "outputs": [],
   "source": [
    "df_drop_encoded, mlb_encoders = multi_hot_encode(df_transformed_Droped, multi_label_columns)\n",
    "df_drop_decoded = multi_hot_decode(df_drop_encoded, mlb_encoders)\n"
   ]
  },
  {
   "cell_type": "code",
   "execution_count": 12,
   "metadata": {},
   "outputs": [
    {
     "name": "stdout",
     "output_type": "stream",
     "text": [
      "[0, 0, 0, 0, 0, 0, 0, 0, 0, 0, 0, 0, 0, 0, 1, 0, 0, 0, 0, 0, 0, 0, 0, 0, 0, 0, 0, 1, 0]\n",
      "['magenta', 'white']\n",
      "('magenta', 'white')\n"
     ]
    }
   ],
   "source": [
    "print(df_drop_encoded['colors'][0])\n",
    "print(df_transformed_Droped['colors'][0])\n",
    "print(df_drop_decoded['colors'][0])\n"
   ]
  },
  {
   "cell_type": "code",
   "execution_count": 13,
   "metadata": {},
   "outputs": [],
   "source": [
    "df_imputed_encoded, mlb_encoders = multi_hot_encode(df_transformed_Imputed, multi_label_columns)\n",
    "df_imputed_decoded = multi_hot_decode(df_drop_encoded, mlb_encoders)"
   ]
  },
  {
   "cell_type": "code",
   "execution_count": 14,
   "metadata": {},
   "outputs": [
    {
     "name": "stdout",
     "output_type": "stream",
     "text": [
      "[0, 0, 0, 0, 0, 0, 0, 0, 0, 0, 0, 0, 0, 0, 1, 0, 0, 0, 0, 0, 0, 0, 0, 0, 0, 0, 0, 1, 0]\n",
      "['magenta', 'white']\n",
      "('magenta', 'white')\n"
     ]
    }
   ],
   "source": [
    "print(df_imputed_encoded['colors'][0])\n",
    "print(df_transformed_Imputed['colors'][0])\n",
    "print(df_imputed_decoded['colors'][0])"
   ]
  },
  {
   "cell_type": "markdown",
   "metadata": {},
   "source": [
    "# Downloding the Image"
   ]
  },
  {
   "cell_type": "code",
   "execution_count": 15,
   "metadata": {},
   "outputs": [],
   "source": [
    "def download_images_and_create_id(df, image_dir,image_col=\"image_url_1\", barcode_col=\"barcode\"):\n",
    "    df = df.copy()\n",
    "    image_ids = []\n",
    "    image_paths = []\n",
    "\n",
    "    for index, row in df.iterrows():\n",
    "        image_url = row[image_col]\n",
    "        barcode = str(row[barcode_col])\n",
    "        image_id = f\"image_{barcode}\"\n",
    "        image_filename = f\"{image_id}.jpg\"\n",
    "        image_path = os.path.join(image_dir, image_filename)\n",
    "\n",
    "        # Download the image\n",
    "        try:\n",
    "            response = requests.get(image_url, timeout=10)\n",
    "            if response.status_code == 200:\n",
    "                img = Image.open(BytesIO(response.content))\n",
    "                img.save(image_path)\n",
    "                image_paths.append(image_path)\n",
    "            else:\n",
    "                image_paths.append(None)\n",
    "        except Exception as e:\n",
    "            image_paths.append(None)\n",
    "\n",
    "        image_ids.append(image_id)\n",
    "\n",
    "    # Insert new columns at the beginning\n",
    "    df.insert(0, \"Image_id\", image_ids)\n",
    "    df.insert(1, \"Image_Path\", image_paths)\n",
    "\n",
    "    return df"
   ]
  },
  {
   "cell_type": "code",
   "execution_count": 16,
   "metadata": {},
   "outputs": [],
   "source": [
    "image_dir_imputed = \"data/images_imputed\"\n",
    "os.makedirs(image_dir_imputed, exist_ok=True)"
   ]
  },
  {
   "cell_type": "code",
   "execution_count": 17,
   "metadata": {},
   "outputs": [],
   "source": [
    "df_imputed_encoded = download_images_and_create_id(df_imputed_encoded,image_dir_imputed)"
   ]
  },
  {
   "cell_type": "code",
   "execution_count": 18,
   "metadata": {},
   "outputs": [],
   "source": [
    "image_dir_droped = \"data/images_droped\"\n",
    "os.makedirs(image_dir_droped, exist_ok=True)"
   ]
  },
  {
   "cell_type": "code",
   "execution_count": 19,
   "metadata": {},
   "outputs": [],
   "source": [
    "df_drop_encoded = download_images_and_create_id(df_drop_encoded,image_dir_droped)"
   ]
  },
  {
   "cell_type": "code",
   "execution_count": 21,
   "metadata": {},
   "outputs": [],
   "source": [
    "df_drop_encoded.to_csv(\"data/df_drop_encoded.csv\", index=False)\n",
    "df_imputed_encoded.to_csv(\"data/df_imputed_encoded.csv\", index=False)"
   ]
  }
 ],
 "metadata": {
  "kernelspec": {
   "display_name": "base",
   "language": "python",
   "name": "python3"
  },
  "language_info": {
   "codemirror_mode": {
    "name": "ipython",
    "version": 3
   },
   "file_extension": ".py",
   "mimetype": "text/x-python",
   "name": "python",
   "nbconvert_exporter": "python",
   "pygments_lexer": "ipython3",
   "version": "3.11.5"
  }
 },
 "nbformat": 4,
 "nbformat_minor": 2
}
